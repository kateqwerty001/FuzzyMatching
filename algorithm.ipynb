{
 "cells": [
  {
   "cell_type": "markdown",
   "metadata": {},
   "source": [
    "# Before Improvement"
   ]
  },
  {
   "cell_type": "code",
   "execution_count": 10,
   "metadata": {},
   "outputs": [],
   "source": [
    "A = ['Hewlett-Packard', 'Google', 'Microsoft']\n",
    "B = ['Microsoft Corporation', 'Hewlett Packard', 'gogle', 'miccro softt', 'HP',\n",
    "     'Microsoft Co.', 'helwet pacard inc', 'microsoft company', 'Gooooogle', 'GOOGLE LLC', 'google inc..',\n",
    "     'miccrosoftt', 'Hewlettt.Paccard', 'Hewlett.Packard.Company', 'micr soft corporation']"
   ]
  },
  {
   "cell_type": "code",
   "execution_count": 11,
   "metadata": {},
   "outputs": [],
   "source": [
    "def get_levenshtein_distance(s1, s2, substitution_cost=1):\n",
    "    '''\n",
    "    computes the Levenshtein distance between two strings: the minimum total cost of insertions(cost = 1), deletions (cost = 1), and substitutions \n",
    "    (substitution_cost is set in the function) needed to transform one string into the other\n",
    "    '''\n",
    "    l1 = len(s1)\n",
    "    l2 = len(s2)\n",
    "    \n",
    "    if l1 == 0:\n",
    "        return l2\n",
    "    if l2 == 0:\n",
    "        return l1\n",
    "    \n",
    "    previous = [i for i in range(l2 + 1)]\n",
    "    current = [0] * (l2 + 1)\n",
    "\n",
    "    for i in range(l1):\n",
    "        current[0] = i+1\n",
    "        for j in range(l2):\n",
    "            if(s1[i] == s2[j]):\n",
    "                cost=0\n",
    "            else:\n",
    "                cost=substitution_cost\n",
    "            \n",
    "            current[j+1] = min(current[j] + 1, previous[j+1] + 1, previous[j] + cost)\n",
    "        previous = current.copy()\n",
    "    \n",
    "    return current[l2]\n",
    "\n",
    "\n",
    "def get_indel_distance(s1, s2):\n",
    "    '''\n",
    "    computes the total number of deletions and insertions needed to transform one string into the other\n",
    "    '''\n",
    "    return get_levenshtein_distance(s1, s2, 2)\n",
    "\n",
    "\n",
    "def get_distance_normalized(s1, s2):\n",
    "    '''\n",
    "    computes the normalized similarity between two strings based on the number of deletions and insertions needed to transform one string into the other\n",
    "    if the returnes value is close to 1, the strings are dissimilar\n",
    "    if the returned value is close to 0, the strings are similar\n",
    "    '''\n",
    "    return 1-get_indel_distance(s1, s2)/(len(s1)+len(s2))\n",
    "    "
   ]
  },
  {
   "cell_type": "code",
   "execution_count": 12,
   "metadata": {},
   "outputs": [],
   "source": [
    "def preprocess_string(s):\n",
    "    '''\n",
    "    lowercase all symbols\n",
    "    delete stopwords\n",
    "    leave only words (a-z, A-Z, 0-9 symbols)\n",
    "    '''\n",
    "    s = s.lower()\n",
    "    stopwords = ['company','corporation',  'llc', 'co', 'inc']\n",
    "    for stopword in stopwords:\n",
    "        s = s.replace(stopword, '')\n",
    "    s = ''.join([c for c in s if c.isalnum()])\n",
    "    return s"
   ]
  },
  {
   "cell_type": "code",
   "execution_count": 13,
   "metadata": {},
   "outputs": [
    {
     "name": "stdout",
     "output_type": "stream",
     "text": [
      "Hewlett-Packard\n",
      "\t Hewlett Packard 1.0\n",
      "\t Hewlett.Packard.Company 1.0\n",
      "\t Hewlettt.Paccard 0.896551724137931\n",
      "\n",
      "Google\n",
      "\t GOOGLE LLC 1.0\n",
      "\t google inc.. 1.0\n",
      "\t gogle 0.9090909090909091\n",
      "\n",
      "Microsoft\n",
      "\t Microsoft Corporation 1.0\n",
      "\t Microsoft Co. 1.0\n",
      "\t microsoft company 1.0\n",
      "\n"
     ]
    }
   ],
   "source": [
    "for a in A:\n",
    "    print(a)\n",
    "    a = preprocess_string(a)\n",
    "    distances = [(b, get_distance_normalized(a, preprocess_string(b))) for b in B]\n",
    "    distances.sort(key=lambda x: x[1], reverse=True)\n",
    "    for i in range(3):\n",
    "        print('\\t', distances[i][0], distances[i][1])\n",
    "    print()"
   ]
  },
  {
   "cell_type": "markdown",
   "metadata": {},
   "source": [
    "# edge case"
   ]
  },
  {
   "cell_type": "code",
   "execution_count": 14,
   "metadata": {},
   "outputs": [
    {
     "data": {
      "text/plain": [
       "0.16326530612244894"
      ]
     },
     "execution_count": 14,
     "metadata": {},
     "output_type": "execute_result"
    }
   ],
   "source": [
    "get_distance_normalized(\"National Aeronautics and Space Administration\", preprocess_string(\"NASA\"))"
   ]
  },
  {
   "cell_type": "code",
   "execution_count": 15,
   "metadata": {},
   "outputs": [
    {
     "data": {
      "text/plain": [
       "0.36363636363636365"
      ]
     },
     "execution_count": 15,
     "metadata": {},
     "output_type": "execute_result"
    }
   ],
   "source": [
    "get_distance_normalized(\"NatWest\", preprocess_string(\"NASA\"))"
   ]
  },
  {
   "cell_type": "markdown",
   "metadata": {},
   "source": [
    "# Improvement"
   ]
  },
  {
   "cell_type": "code",
   "execution_count": 16,
   "metadata": {},
   "outputs": [],
   "source": [
    "def get_abbreviation(s):\n",
    "    '''\n",
    "    returns the abbreviation of a string (example: National Aeronautics and Space Administration -> nasa) \n",
    "    if the string has only 1 word then the abbreviation is the word itself\n",
    "    '''\n",
    "\n",
    "    s = s.lower()\n",
    "\n",
    "    stopwords = ['and', 'the', 'of', 'corporation', 'company', 'llc', 'inc', 'co']\n",
    "\n",
    "    for stopword in stopwords:\n",
    "        s = s.replace(stopword, '')\n",
    "\n",
    "    # edge case: if the string is already an abbreviation or has no abbreviation\n",
    "    if len(s.split()) == 1:\n",
    "        return s\n",
    "    \n",
    "    s_first_letters = ''.join([word[0] for word in s.split()])\n",
    "\n",
    "    return s_first_letters"
   ]
  },
  {
   "cell_type": "code",
   "execution_count": 17,
   "metadata": {},
   "outputs": [],
   "source": [
    "def get_simularity_coef_improved(s1, s2):\n",
    "    '''\n",
    "    computes the normalized similarity between two company names based on the number of deletions \n",
    "    and insertions needed to transform one string into the other (taking into account the abbreviation of the company names)\n",
    "    if the returnes value is close to 1, the strings are dissimilar\n",
    "    if the returned value is close to 0, the strings are similar\n",
    "    '''\n",
    "    #check all 4 options and return the maximum value\n",
    "    return max(get_distance_normalized(preprocess_string(s1), preprocess_string(s2)),\n",
    "                get_distance_normalized(get_abbreviation(s1), get_abbreviation(s2)),\n",
    "                get_distance_normalized(preprocess_string(s1), get_abbreviation(s2)),\n",
    "                get_distance_normalized(get_abbreviation(s1), preprocess_string(s2)))"
   ]
  },
  {
   "cell_type": "code",
   "execution_count": 18,
   "metadata": {},
   "outputs": [
    {
     "name": "stdout",
     "output_type": "stream",
     "text": [
      "Hewlett-Packard\n",
      "\t Hewlett Packard 1.0\n",
      "\t Hewlett.Packard.Company 1.0\n",
      "\t Hewlettt.Paccard 0.896551724137931\n",
      "\t helwet pacard inc 0.8461538461538461\n",
      "\t NatWest Bank 0.4\n",
      "\t NatWest Markets Plc 0.3870967741935484\n",
      "\t NatWest Markets 0.3571428571428571\n",
      "\t NatWest Markets Securities Inc 0.3157894736842105\n",
      "\t NatWest Group 0.3076923076923077\n",
      "\t National Aeronautics and Space Administration 0.2909090909090909\n",
      "\n",
      "Google\n",
      "\t GOOGLE LLC 1.0\n",
      "\t google inc.. 1.0\n",
      "\t gogle 0.9090909090909091\n",
      "\t Gooooogle 0.8\n",
      "\t Microsoft Corporation 0.2666666666666667\n",
      "\t Microsoft Co. 0.2666666666666667\n",
      "\t microsoft company 0.2666666666666667\n",
      "\t NatWest Group 0.25\n",
      "\t miccro softt 0.23529411764705888\n",
      "\t miccrosoftt 0.23529411764705888\n",
      "\n",
      "Microsoft\n",
      "\t Microsoft Corporation 1.0\n",
      "\t Microsoft Co. 1.0\n",
      "\t microsoft company 1.0\n",
      "\t micr soft corporation 0.9411764705882353\n",
      "\t miccro softt 0.9\n",
      "\t miccrosoftt 0.9\n",
      "\t NatWest Markets Securities Inc 0.4\n",
      "\t NatWest Markets 0.2857142857142857\n",
      "\t GOOGLE LLC 0.2666666666666667\n",
      "\t google inc.. 0.2666666666666667\n",
      "\n",
      "NASA\n",
      "\t National Aeronautics and Space Administration 1.0\n",
      "\t National Aeronautics and Space Administration (NASA) 0.8888888888888888\n",
      "\t NatWest Markets Securities Inc 0.5714285714285714\n",
      "\t NatWest Bank 0.5333333333333333\n",
      "\t NatWest Markets 0.4444444444444444\n",
      "\t NatWest Markets Plc 0.38095238095238093\n",
      "\t NatWest Group 0.375\n",
      "\t miccro softt 0.33333333333333337\n",
      "\t micr soft corporation 0.33333333333333337\n",
      "\t helwet pacard inc 0.25\n",
      "\n",
      "NatWest\n",
      "\t NatWest Bank 0.7777777777777778\n",
      "\t NatWest Group 0.736842105263158\n",
      "\t NatWest Markets 0.6666666666666667\n",
      "\t NatWest Markets Plc 0.5833333333333333\n",
      "\t National Aeronautics and Space Administration 0.5454545454545454\n",
      "\t National Aeronautics and Space Administration (NASA) 0.5\n",
      "\t NatWest Markets Securities Inc 0.4516129032258065\n",
      "\t helwet pacard inc 0.3157894736842105\n",
      "\t Hewlett Packard 0.2857142857142857\n",
      "\t Hewlett.Packard.Company 0.2857142857142857\n",
      "\n",
      "IBM\n",
      "\t International Business Machines Corporation 1.0\n",
      "\t IBM Corporation 1.0\n",
      "\t miccro softt 0.4\n",
      "\t Microsoft Co. 0.4\n",
      "\t micr soft corporation 0.4\n",
      "\t NatWest Bank 0.4\n",
      "\t NatWest Markets 0.4\n",
      "\t NatWest Markets Plc 0.33333333333333337\n",
      "\t NatWest Markets Securities Inc 0.33333333333333337\n",
      "\t Microsoft Corporation 0.18181818181818177\n",
      "\n"
     ]
    }
   ],
   "source": [
    "A = ['Hewlett-Packard', 'Google', 'Microsoft', 'NASA', 'NatWest', 'IBM']\n",
    "B = ['Microsoft Corporation', 'Hewlett Packard', 'gogle', 'miccro softt', 'HP',\n",
    "     'Microsoft Co.', 'helwet pacard inc', 'microsoft company', 'Gooooogle', 'GOOGLE LLC', 'google inc..',\n",
    "     'miccrosoftt', 'Hewlettt.Paccard', 'Hewlett.Packard.Company', 'micr soft corporation', 'International Business Machines Corporation', 'National Aeronautics and Space Administration', 'NatWest Bank',\n",
    "     'IBM Corporation', 'NatWest Group', 'NatWest Markets', 'NatWest Markets Plc', 'NatWest Markets Securities Inc', 'National Aeronautics and Space Administration (NASA)']\n",
    "\n",
    "for a in A:\n",
    "    print(a)\n",
    "    distances = [(b, get_simularity_coef_improved(a, b)) for b in B]\n",
    "    distances.sort(key=lambda x: x[1], reverse=True)\n",
    "    for i in range(10):\n",
    "        print('\\t', distances[i][0], distances[i][1])\n",
    "    print()"
   ]
  },
  {
   "cell_type": "code",
   "execution_count": null,
   "metadata": {},
   "outputs": [],
   "source": []
  }
 ],
 "metadata": {
  "kernelspec": {
   "display_name": "6.86x",
   "language": "python",
   "name": "python3"
  },
  "language_info": {
   "codemirror_mode": {
    "name": "ipython",
    "version": 3
   },
   "file_extension": ".py",
   "mimetype": "text/x-python",
   "name": "python",
   "nbconvert_exporter": "python",
   "pygments_lexer": "ipython3",
   "version": "3.10.15"
  }
 },
 "nbformat": 4,
 "nbformat_minor": 2
}
